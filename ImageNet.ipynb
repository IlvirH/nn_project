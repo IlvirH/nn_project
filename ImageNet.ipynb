{
  "nbformat": 4,
  "nbformat_minor": 0,
  "metadata": {
    "colab": {
      "provenance": [],
      "include_colab_link": true
    },
    "kernelspec": {
      "name": "python3",
      "display_name": "Python 3"
    },
    "language_info": {
      "name": "python"
    }
  },
  "cells": [
    {
      "cell_type": "markdown",
      "metadata": {
        "id": "view-in-github",
        "colab_type": "text"
      },
      "source": [
        "<a href=\"https://colab.research.google.com/github/IlvirH/nn_project/blob/main/ImageNet.ipynb\" target=\"_parent\"><img src=\"https://colab.research.google.com/assets/colab-badge.svg\" alt=\"Open In Colab\"/></a>"
      ]
    },
    {
      "cell_type": "code",
      "execution_count": 1,
      "metadata": {
        "id": "MAGdDiE1Enw_",
        "outputId": "9ab75187-b7e4-4a69-c0e4-63e6649b6337",
        "colab": {
          "base_uri": "https://localhost:8080/"
        }
      },
      "outputs": [
        {
          "output_type": "stream",
          "name": "stdout",
          "text": [
            "Looking in indexes: https://pypi.org/simple, https://us-python.pkg.dev/colab-wheels/public/simple/\n",
            "Collecting torchutils\n",
            "  Downloading torchutils-0.0.4-py3-none-any.whl (20 kB)\n",
            "Requirement already satisfied: torch>=1.0.0 in /usr/local/lib/python3.10/dist-packages (from torchutils) (2.0.1+cu118)\n",
            "Requirement already satisfied: numpy>=1.16.2 in /usr/local/lib/python3.10/dist-packages (from torchutils) (1.22.4)\n",
            "Requirement already satisfied: matplotlib>=3.0.3 in /usr/local/lib/python3.10/dist-packages (from torchutils) (3.7.1)\n",
            "Requirement already satisfied: contourpy>=1.0.1 in /usr/local/lib/python3.10/dist-packages (from matplotlib>=3.0.3->torchutils) (1.0.7)\n",
            "Requirement already satisfied: cycler>=0.10 in /usr/local/lib/python3.10/dist-packages (from matplotlib>=3.0.3->torchutils) (0.11.0)\n",
            "Requirement already satisfied: fonttools>=4.22.0 in /usr/local/lib/python3.10/dist-packages (from matplotlib>=3.0.3->torchutils) (4.39.3)\n",
            "Requirement already satisfied: kiwisolver>=1.0.1 in /usr/local/lib/python3.10/dist-packages (from matplotlib>=3.0.3->torchutils) (1.4.4)\n",
            "Requirement already satisfied: packaging>=20.0 in /usr/local/lib/python3.10/dist-packages (from matplotlib>=3.0.3->torchutils) (23.1)\n",
            "Requirement already satisfied: pillow>=6.2.0 in /usr/local/lib/python3.10/dist-packages (from matplotlib>=3.0.3->torchutils) (8.4.0)\n",
            "Requirement already satisfied: pyparsing>=2.3.1 in /usr/local/lib/python3.10/dist-packages (from matplotlib>=3.0.3->torchutils) (3.0.9)\n",
            "Requirement already satisfied: python-dateutil>=2.7 in /usr/local/lib/python3.10/dist-packages (from matplotlib>=3.0.3->torchutils) (2.8.2)\n",
            "Requirement already satisfied: filelock in /usr/local/lib/python3.10/dist-packages (from torch>=1.0.0->torchutils) (3.12.0)\n",
            "Requirement already satisfied: typing-extensions in /usr/local/lib/python3.10/dist-packages (from torch>=1.0.0->torchutils) (4.5.0)\n",
            "Requirement already satisfied: sympy in /usr/local/lib/python3.10/dist-packages (from torch>=1.0.0->torchutils) (1.11.1)\n",
            "Requirement already satisfied: networkx in /usr/local/lib/python3.10/dist-packages (from torch>=1.0.0->torchutils) (3.1)\n",
            "Requirement already satisfied: jinja2 in /usr/local/lib/python3.10/dist-packages (from torch>=1.0.0->torchutils) (3.1.2)\n",
            "Requirement already satisfied: triton==2.0.0 in /usr/local/lib/python3.10/dist-packages (from torch>=1.0.0->torchutils) (2.0.0)\n",
            "Requirement already satisfied: cmake in /usr/local/lib/python3.10/dist-packages (from triton==2.0.0->torch>=1.0.0->torchutils) (3.25.2)\n",
            "Requirement already satisfied: lit in /usr/local/lib/python3.10/dist-packages (from triton==2.0.0->torch>=1.0.0->torchutils) (16.0.5)\n",
            "Requirement already satisfied: six>=1.5 in /usr/local/lib/python3.10/dist-packages (from python-dateutil>=2.7->matplotlib>=3.0.3->torchutils) (1.16.0)\n",
            "Requirement already satisfied: MarkupSafe>=2.0 in /usr/local/lib/python3.10/dist-packages (from jinja2->torch>=1.0.0->torchutils) (2.1.2)\n",
            "Requirement already satisfied: mpmath>=0.19 in /usr/local/lib/python3.10/dist-packages (from sympy->torch>=1.0.0->torchutils) (1.3.0)\n",
            "Installing collected packages: torchutils\n",
            "Successfully installed torchutils-0.0.4\n"
          ]
        }
      ],
      "source": [
        "import torch\n",
        "import torchvision\n",
        "import torch.nn as nn\n",
        "from torch.utils.data import DataLoader\n",
        "from torchvision import datasets\n",
        "from torchvision import transforms as T\n",
        "from torchvision import io\n",
        "!pip install torchutils\n",
        "import torchutils as tu\n",
        "import json\n",
        "import numpy as np\n",
        "import matplotlib.pyplot as plt\n",
        "import os"
      ]
    },
    {
      "cell_type": "code",
      "source": [
        "import torch\n",
        "from torchvision import models, transforms\n",
        "from PIL import Image\n",
        "import urllib.request\n",
        "import json\n",
        "\n",
        "# Загрузка предобученной модели Inception\n",
        "model = models.inception_v3(pretrained=True)\n",
        "model.eval()\n",
        "\n",
        "# Загрузка файла с метками классов ImageNet\n",
        "LABELS_URL = 'https://raw.githubusercontent.com/anishathalye/imagenet-simple-labels/master/imagenet-simple-labels.json'\n",
        "labels_path = 'imagenet_labels.json'\n",
        "urllib.request.urlretrieve(LABELS_URL, labels_path)\n",
        "\n",
        "# Загрузка меток классов\n",
        "with open(labels_path) as f:\n",
        "    labels = json.load(f)\n",
        "\n",
        "# Предобработка изображения\n",
        "preprocess = transforms.Compose([\n",
        "    transforms.Resize(299),\n",
        "    transforms.CenterCrop(299),\n",
        "    transforms.ToTensor(),\n",
        "    transforms.Normalize(mean=[0.485, 0.456, 0.406], std=[0.229, 0.224, 0.225]),\n",
        "])\n",
        "\n",
        "# Загрузка и классификация изображения\n",
        "def classify_image(image_path):\n",
        "    image = Image.open(image_path)\n",
        "    image = preprocess(image)\n",
        "    image = image.unsqueeze(0)  # добавляем размерность пакета\n",
        "\n",
        "    # Передача изображения через модель\n",
        "    with torch.no_grad():\n",
        "        output = model(image)\n",
        "\n",
        "    # Получение предсказаний классов\n",
        "    _, predicted_idx = torch.max(output, 1)\n",
        "    predicted_label = labels[predicted_idx.item()]\n",
        "    return predicted_label\n",
        "\n",
        "\n",
        "!wget -O image2.jpg https://old.bigenc.ru/media/2016/10/27/1235209875/19116.jpg.262x-.png\n",
        "\n",
        "\n",
        "\n",
        "# # Пример использования\n",
        "# image_path = 'путь_к_изображению.jpg'\n",
        "# predicted_class = classify_image(image_path)\n",
        "# print(predicted_class)\n",
        "\n",
        "image_path = 'image2.jpg'\n",
        "predicted_class = classify_image(image_path)\n",
        "print(predicted_class)\n",
        "\n",
        "# print(predicted_class)"
      ],
      "metadata": {
        "id": "-786_iZhEppK",
        "outputId": "7f29cd4d-716e-4db4-b824-c17d2e77ad07",
        "colab": {
          "base_uri": "https://localhost:8080/"
        }
      },
      "execution_count": 2,
      "outputs": [
        {
          "output_type": "stream",
          "name": "stderr",
          "text": [
            "/usr/local/lib/python3.10/dist-packages/torchvision/models/_utils.py:208: UserWarning: The parameter 'pretrained' is deprecated since 0.13 and may be removed in the future, please use 'weights' instead.\n",
            "  warnings.warn(\n",
            "/usr/local/lib/python3.10/dist-packages/torchvision/models/_utils.py:223: UserWarning: Arguments other than a weight enum or `None` for 'weights' are deprecated since 0.13 and may be removed in the future. The current behavior is equivalent to passing `weights=Inception_V3_Weights.IMAGENET1K_V1`. You can also use `weights=Inception_V3_Weights.DEFAULT` to get the most up-to-date weights.\n",
            "  warnings.warn(msg)\n",
            "Downloading: \"https://download.pytorch.org/models/inception_v3_google-0cc3c7bd.pth\" to /root/.cache/torch/hub/checkpoints/inception_v3_google-0cc3c7bd.pth\n",
            "100%|██████████| 104M/104M [00:01<00:00, 92.9MB/s]\n"
          ]
        },
        {
          "output_type": "stream",
          "name": "stdout",
          "text": [
            "--2023-05-26 13:22:11--  https://old.bigenc.ru/media/2016/10/27/1235209875/19116.jpg.262x-.png\n",
            "Resolving old.bigenc.ru (old.bigenc.ru)... 149.126.168.169\n",
            "Connecting to old.bigenc.ru (old.bigenc.ru)|149.126.168.169|:443... connected.\n",
            "HTTP request sent, awaiting response... 200 OK\n",
            "Length: 58209 (57K) [image/jpeg]\n",
            "Saving to: ‘image2.jpg’\n",
            "\n",
            "image2.jpg          100%[===================>]  56.84K   334KB/s    in 0.2s    \n",
            "\n",
            "2023-05-26 13:22:12 (334 KB/s) - ‘image2.jpg’ saved [58209/58209]\n",
            "\n",
            "valley\n"
          ]
        }
      ]
    },
    {
      "cell_type": "code",
      "source": [],
      "metadata": {
        "id": "GWTFxS5RF1QN"
      },
      "execution_count": 2,
      "outputs": []
    }
  ]
}